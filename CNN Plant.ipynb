{
 "cells": [
  {
   "cell_type": "code",
   "execution_count": 83,
   "metadata": {},
   "outputs": [],
   "source": [
    "import os,cv2\n",
    "import numpy as np\n",
    "import matplotlib.pyplot as plt\n",
    "import matplotlib.image as pimg\n",
    "\n",
    "from sklearn.utils import shuffle\n",
    "from sklearn.model_selection import train_test_split\n",
    "\n",
    "from keras import backend as K\n",
    "K.set_image_dim_ordering('tf')\n",
    "\n",
    "from keras.utils import np_utils\n",
    "from keras.models import Sequential\n",
    "from keras.layers.core import Dense, Dropout, Activation, Flatten\n",
    "from keras.layers.convolutional import Conv1D,Conv2D, MaxPooling2D, MaxPooling1D\n",
    "from keras.optimizers import SGD,RMSprop,adam\n",
    "from keras.callbacks import EarlyStopping"
   ]
  },
  {
   "cell_type": "code",
   "execution_count": 84,
   "metadata": {},
   "outputs": [],
   "source": [
    "def image_to_feature_vector(image, size=(200, 200)):\n",
    "    #resize the image to fixed size, then flatten the image into \n",
    "    # a list of raw pixel intensities\n",
    "    return cv2.resize(image, size).flatten()"
   ]
  },
  {
   "cell_type": "code",
   "execution_count": 85,
   "metadata": {},
   "outputs": [],
   "source": [
    "img_rows = 100\n",
    "img_cols = 100\n",
    "num_channel = 1\n"
   ]
  },
  {
   "cell_type": "code",
   "execution_count": 86,
   "metadata": {},
   "outputs": [],
   "source": [
    "img_data_list = []\n",
    "data_path = ('./swedish dataset/')\n",
    "data_dir_list = os.listdir(data_path)"
   ]
  },
  {
   "cell_type": "code",
   "execution_count": 87,
   "metadata": {
    "scrolled": false
   },
   "outputs": [
    {
     "name": "stdout",
     "output_type": "stream",
     "text": [
      "Loaded the images of dataset-A\n",
      "\n",
      "Loaded the images of dataset-B\n",
      "\n",
      "Loaded the images of dataset-C\n",
      "\n",
      "Loaded the images of dataset-D\n",
      "\n",
      "Loaded the images of dataset-E\n",
      "\n",
      "Loaded the images of dataset-F\n",
      "\n",
      "Loaded the images of dataset-G\n",
      "\n",
      "Loaded the images of dataset-H\n",
      "\n",
      "Loaded the images of dataset-I\n",
      "\n",
      "Loaded the images of dataset-J\n",
      "\n",
      "Loaded the images of dataset-K\n",
      "\n",
      "Loaded the images of dataset-L\n",
      "\n",
      "Loaded the images of dataset-M\n",
      "\n",
      "Loaded the images of dataset-N\n",
      "\n",
      "Loaded the images of dataset-O\n",
      "\n"
     ]
    }
   ],
   "source": [
    "for dataset in data_dir_list:\n",
    "    img_list=os.listdir(data_path+'/'+dataset)\n",
    "    print('Loaded the images of dataset-'+'{}\\n'.format(dataset))\n",
    "    for img in img_list:\n",
    "        input_img = cv2.imread(data_path +'/'+ dataset + '/' +img )\n",
    "        input_img = cv2.cvtColor(input_img, cv2.COLOR_BGR2GRAY)\n",
    "        input_img_flatten = image_to_feature_vector(input_img,(100,100))\n",
    "        input_img_resize = cv2.resize(input_img,(100,100))\n",
    "        img_data_list.append(input_img_resize)"
   ]
  },
  {
   "cell_type": "code",
   "execution_count": 88,
   "metadata": {},
   "outputs": [
    {
     "name": "stdout",
     "output_type": "stream",
     "text": [
      "(1110, 100, 100)\n"
     ]
    }
   ],
   "source": [
    "img_data = np.array(img_data_list)\n",
    "img_data = img_data.astype('float32')\n",
    "img_data /= 255\n",
    "print(img_data.shape)"
   ]
  },
  {
   "cell_type": "code",
   "execution_count": 89,
   "metadata": {},
   "outputs": [
    {
     "data": {
      "text/plain": [
       "\"if num_channel==1:\\n    if K.image_dim_ordering()=='th':\\n        img_data=np.expand_dims(img_data, axis=1)\\n        print (img_data.shape)\\n    else:\\n        img_data = np.expand_dims(img_data, axis=4)\\n        print (img_data.shape)\\nelse:\\n    if K.image_dim_ordering()=='th':\\n        img_data=np.rollaxis(img_data,3,1)\\n        print(img_data.shape)\\n\""
      ]
     },
     "execution_count": 89,
     "metadata": {},
     "output_type": "execute_result"
    }
   ],
   "source": [
    "'''if num_channel==1:\n",
    "    if K.image_dim_ordering()=='th':\n",
    "        img_data=np.expand_dims(img_data, axis=1)\n",
    "        print (img_data.shape)\n",
    "    else:\n",
    "        img_data = np.expand_dims(img_data, axis=4)\n",
    "        print (img_data.shape)\n",
    "else:\n",
    "    if K.image_dim_ordering()=='th':\n",
    "        img_data=np.rollaxis(img_data,3,1)\n",
    "        print(img_data.shape)\n",
    "'''"
   ]
  },
  {
   "cell_type": "code",
   "execution_count": 90,
   "metadata": {},
   "outputs": [],
   "source": [
    "from sklearn import preprocessing"
   ]
  },
  {
   "cell_type": "code",
   "execution_count": 91,
   "metadata": {},
   "outputs": [
    {
     "name": "stdout",
     "output_type": "stream",
     "text": [
      "(1110, 100, 100)\n"
     ]
    }
   ],
   "source": [
    "#img_data_scaled = preprocessing.scale(img_data)\n",
    "print(img_data.shape)"
   ]
  },
  {
   "cell_type": "code",
   "execution_count": 92,
   "metadata": {},
   "outputs": [
    {
     "name": "stdout",
     "output_type": "stream",
     "text": [
      "(1110, 100, 100, 1)\n"
     ]
    }
   ],
   "source": [
    "\n",
    "#img_data_scaled = img_data.reshape(img_data.shape[0], img_rows, img_cols, num_channel)\n",
    "print(img_data_scaled.shape)\n",
    "    "
   ]
  },
  {
   "cell_type": "code",
   "execution_count": 93,
   "metadata": {},
   "outputs": [],
   "source": [
    "num_classes = 15\n",
    "\n",
    "number_of_samples = img_data_scaled.shape[0]\n",
    "labels =np.ones((number_of_samples,),dtype = 'int64')\n",
    "\n",
    "labels[0:73]= 0\n",
    "labels[73:148] = 1\n",
    "labels[148:223] = 2\n",
    "labels[223:298] = 3\n",
    "labels[298:373] = 4\n",
    "labels[373:448] = 5\n",
    "labels[448:523] = 6\n",
    "labels[523:598] = 7\n",
    "labels[598:673] = 8\n",
    "labels[673:748] = 9\n",
    "labels[748:823] = 10\n",
    "labels[823:898] = 11\n",
    "labels[898:973] = 12\n",
    "labels[973:1048] = 13\n",
    "labels[1048:1123] = 14\n",
    "\n",
    "\n",
    "names = ['1','2','3','4','5','6','7','8','9','10','11','12','13','14','15']"
   ]
  },
  {
   "cell_type": "code",
   "execution_count": 94,
   "metadata": {},
   "outputs": [
    {
     "name": "stdout",
     "output_type": "stream",
     "text": [
      "1110\n"
     ]
    }
   ],
   "source": [
    "print(number_of_samples)"
   ]
  },
  {
   "cell_type": "code",
   "execution_count": 95,
   "metadata": {},
   "outputs": [],
   "source": [
    "#convert class labels to on-hot encoding\n",
    "Y = np_utils.to_categorical(labels, num_classes)"
   ]
  },
  {
   "cell_type": "code",
   "execution_count": 96,
   "metadata": {},
   "outputs": [
    {
     "name": "stdout",
     "output_type": "stream",
     "text": [
      "(1110, 15)\n"
     ]
    }
   ],
   "source": [
    "print(Y.shape)"
   ]
  },
  {
   "cell_type": "code",
   "execution_count": 97,
   "metadata": {},
   "outputs": [],
   "source": [
    "x,y = shuffle(img_data_scaled,Y, random_state=2)\n",
    "\n",
    "X_train, X_test, y_train, y_test = train_test_split(x, y, test_size=0.2)"
   ]
  },
  {
   "cell_type": "markdown",
   "metadata": {},
   "source": [
    "# BUILD and TRAINING CNN"
   ]
  },
  {
   "cell_type": "code",
   "execution_count": 124,
   "metadata": {},
   "outputs": [
    {
     "name": "stdout",
     "output_type": "stream",
     "text": [
      "(888, 100, 100, 1)\n"
     ]
    }
   ],
   "source": [
    "print(X_train.shape)"
   ]
  },
  {
   "cell_type": "code",
   "execution_count": 125,
   "metadata": {},
   "outputs": [],
   "source": [
    "input_shape = X_train[0].shape"
   ]
  },
  {
   "cell_type": "code",
   "execution_count": 150,
   "metadata": {},
   "outputs": [],
   "source": [
    "model = Sequential()\n",
    "\n",
    "\n",
    "model.add(Conv2D(256, kernel_size=3, input_shape=input_shape))\n",
    "model.add(Activation('relu'))\n",
    "model.add(MaxPooling2D(pool_size=(2, 2)))\n",
    "\n",
    "model.add(Conv2D(512, kernel_size=3, input_shape=input_shape))\n",
    "model.add(Activation('relu'))\n",
    "model.add(MaxPooling2D(pool_size=(2, 2)))\n",
    "\n",
    "model.add(Flatten())\n",
    "model.add(Dropout(0.4))\n",
    "model.add(Dense(num_classes))\n",
    "model.add(Activation('softmax'))\n",
    "\n",
    "\n",
    "monitor = EarlyStopping(monitor='val_loss', min_delta=1e-3, patience=5, verbose=1, mode='auto',\n",
    "        restore_best_weights=True)\n",
    "\n",
    "#sgd = SGD(lr=0.01, nesterov=True, decay=1e-6, momentum=0.9)\n",
    "\n",
    "model.compile(loss='categorical_crossentropy',optimizer='adam' ,metrics=['accuracy'])"
   ]
  },
  {
   "cell_type": "code",
   "execution_count": 151,
   "metadata": {
    "scrolled": false
   },
   "outputs": [
    {
     "name": "stdout",
     "output_type": "stream",
     "text": [
      "Train on 710 samples, validate on 178 samples\n",
      "Epoch 1/10\n",
      "710/710 [==============================] - 63s 88ms/step - loss: 2.5399 - acc: 0.1761 - val_loss: 1.5799 - val_acc: 0.5337\n",
      "Epoch 2/10\n",
      "710/710 [==============================] - 60s 85ms/step - loss: 1.0896 - acc: 0.7028 - val_loss: 1.1528 - val_acc: 0.7135\n",
      "Epoch 3/10\n",
      "710/710 [==============================] - 61s 86ms/step - loss: 0.6839 - acc: 0.8070 - val_loss: 1.0358 - val_acc: 0.7303\n",
      "Epoch 4/10\n",
      "710/710 [==============================] - 61s 86ms/step - loss: 0.4857 - acc: 0.8535 - val_loss: 0.8736 - val_acc: 0.7640\n",
      "Epoch 5/10\n",
      "710/710 [==============================] - 59s 84ms/step - loss: 0.3302 - acc: 0.9000 - val_loss: 0.9072 - val_acc: 0.7472\n",
      "Epoch 6/10\n",
      "710/710 [==============================] - 59s 84ms/step - loss: 0.2185 - acc: 0.9310 - val_loss: 0.8806 - val_acc: 0.7697\n",
      "Epoch 7/10\n",
      "710/710 [==============================] - 61s 85ms/step - loss: 0.1606 - acc: 0.9521 - val_loss: 1.0835 - val_acc: 0.7528\n",
      "Epoch 8/10\n",
      "710/710 [==============================] - 66s 93ms/step - loss: 0.1413 - acc: 0.9507 - val_loss: 0.9694 - val_acc: 0.7584\n",
      "Epoch 9/10\n",
      "710/710 [==============================] - 60s 84ms/step - loss: 0.1045 - acc: 0.9662 - val_loss: 1.1994 - val_acc: 0.7528\n",
      "Restoring model weights from the end of the best epoch\n",
      "Epoch 00009: early stopping\n"
     ]
    }
   ],
   "source": [
    "hist = model.fit(X_train, y_train, batch_size=20, epochs=10, verbose=1, validation_split=0.2, callbacks=[monitor])"
   ]
  },
  {
   "cell_type": "markdown",
   "metadata": {},
   "source": [
    "\n",
    "# Visualizing losses and accuracy"
   ]
  },
  {
   "cell_type": "code",
   "execution_count": 152,
   "metadata": {},
   "outputs": [
    {
     "name": "stdout",
     "output_type": "stream",
     "text": [
      "dict_keys(['val_loss', 'val_acc', 'loss', 'acc'])\n"
     ]
    }
   ],
   "source": [
    " print(hist.history.keys()) "
   ]
  },
  {
   "cell_type": "code",
   "execution_count": 153,
   "metadata": {},
   "outputs": [
    {
     "data": {
      "text/plain": [
       "<matplotlib.legend.Legend at 0x1d9c0d8fe48>"
      ]
     },
     "execution_count": 153,
     "metadata": {},
     "output_type": "execute_result"
    },
    {
     "data": {
      "image/png": "[encoded data removed]",
      "text/plain": [
       "<Figure size 432x288 with 1 Axes>"
      ]
     },
     "metadata": {
      "needs_background": "light"
     },
     "output_type": "display_data"
    }
   ],
   "source": [
    "# summarize history for accuracy  \n",
    "   \n",
    "plt.subplot(211)  \n",
    "plt.plot(hist.history['acc'])  \n",
    "plt.plot(hist.history['val_acc'])  \n",
    "plt.title('model accuracy')  \n",
    "plt.ylabel('accuracy')  \n",
    "plt.xlabel('epoch')  \n",
    "plt.legend(['train', 'test'], loc='upper left')"
   ]
  },
  {
   "cell_type": "code",
   "execution_count": 154,
   "metadata": {},
   "outputs": [
    {
     "data": {
      "image/png": "[encoded data removed]",
      "text/plain": [
       "<Figure size 432x288 with 1 Axes>"
      ]
     },
     "metadata": {
      "needs_background": "light"
     },
     "output_type": "display_data"
    }
   ],
   "source": [
    " # summarize history for loss  \n",
    "   \n",
    "plt.subplot(212)  \n",
    "plt.plot(hist.history['loss'])  \n",
    "plt.plot(hist.history['val_loss'])  \n",
    "plt.title('model loss')  \n",
    "plt.ylabel('loss')  \n",
    "plt.xlabel('epoch')  \n",
    "plt.legend(['train', 'test'], loc='upper left')  \n",
    "plt.show()  "
   ]
  },
  {
   "cell_type": "markdown",
   "metadata": {},
   "source": [
    "# Potting the confusion matrix"
   ]
  },
  {
   "cell_type": "code",
   "execution_count": 155,
   "metadata": {},
   "outputs": [],
   "source": [
    "from sklearn.metrics import classification_report, confusion_matrix\n",
    "import itertools"
   ]
  },
  {
   "cell_type": "code",
   "execution_count": 156,
   "metadata": {},
   "outputs": [
    {
     "name": "stdout",
     "output_type": "stream",
     "text": [
      "              precision    recall  f1-score   support\n",
      "\n",
      "  class 0(1)       0.67      0.50      0.57        16\n",
      "  class 1(2)       0.94      0.94      0.94        18\n",
      "  class 2(3)       0.75      0.45      0.56        20\n",
      "  class 3(4)       0.80      0.73      0.76        11\n",
      "  class 4(5)       0.83      0.94      0.88        16\n",
      "  class 5(6)       1.00      0.50      0.67        22\n",
      "  class 6(7)       0.89      0.94      0.91        17\n",
      "  class 7(8)       0.80      0.62      0.70        13\n",
      "  class 8(9)       0.35      0.50      0.41        16\n",
      " class 9(10)       0.74      0.82      0.78        17\n",
      "class 10(11)       0.69      0.64      0.67        14\n",
      "class 11(12)       0.64      0.75      0.69        12\n",
      "class 12(13)       0.54      0.70      0.61        10\n",
      "class 13(14)       0.61      1.00      0.76        11\n",
      "class 14(15)       0.69      1.00      0.82         9\n",
      "\n",
      "    accuracy                           0.72       222\n",
      "   macro avg       0.73      0.74      0.72       222\n",
      "weighted avg       0.75      0.72      0.71       222\n",
      "\n",
      "[[ 8  0  1  0  0  0  0  0  5  0  2  0  0  0  0]\n",
      " [ 1 17  0  0  0  0  0  0  0  0  0  0  0  0  0]\n",
      " [ 1  0  9  2  0  0  0  0  7  0  0  0  1  0  0]\n",
      " [ 0  0  0  8  0  0  0  0  0  1  0  0  0  2  0]\n",
      " [ 0  0  0  0 15  0  0  0  0  0  0  0  1  0  0]\n",
      " [ 0  0  0  0  1 11  0  0  2  0  0  4  0  0  4]\n",
      " [ 0  0  0  0  0  0 16  1  0  0  0  0  0  0  0]\n",
      " [ 0  0  0  0  1  0  2  8  0  0  0  1  1  0  0]\n",
      " [ 1  0  1  0  0  0  0  1  8  4  1  0  0  0  0]\n",
      " [ 0  0  0  0  0  0  0  0  0 14  1  0  0  2  0]\n",
      " [ 1  0  1  0  1  0  0  0  1  0  9  0  0  1  0]\n",
      " [ 0  0  0  0  0  0  0  0  0  0  0  9  3  0  0]\n",
      " [ 0  1  0  0  0  0  0  0  0  0  0  0  7  2  0]\n",
      " [ 0  0  0  0  0  0  0  0  0  0  0  0  0 11  0]\n",
      " [ 0  0  0  0  0  0  0  0  0  0  0  0  0  0  9]]\n"
     ]
    }
   ],
   "source": [
    "Y_pred = model.predict(X_test)\n",
    "#print(Y_pred)\n",
    "\n",
    "y_pred = np.argmax(Y_pred, axis=1)\n",
    "#print(y_pred)\n",
    "\n",
    "target_names = ['class 0(1)', 'class 1(2)','class 2(3)', 'class 3(4)','class 4(5)', 'class 5(6)','class 6(7)', 'class 7(8)','class 8(9)',\n",
    "                'class 9(10)','class 10(11)','class 11(12)','class 12(13)','class 13(14)','class 14(15)']\n",
    "\n",
    "print(classification_report(np.argmax(y_test, axis=1), y_pred, target_names = target_names))\n",
    "print(confusion_matrix(np.argmax(y_test, axis=1), y_pred))"
   ]
  },
  {
   "cell_type": "markdown",
   "metadata": {},
   "source": [
    "# Testing test data"
   ]
  },
  {
   "cell_type": "code",
   "execution_count": 157,
   "metadata": {},
   "outputs": [
    {
     "name": "stdout",
     "output_type": "stream",
     "text": [
      "(1, 100, 100, 1)\n",
      "[[3.3834378e-05 7.6735008e-04 2.3269947e-04 2.6389639e-04 5.4483920e-01\n",
      "  1.5406414e-03 3.3366098e-07 1.8290745e-04 4.1122660e-03 6.0296461e-05\n",
      "  3.1516932e-02 3.7070516e-01 3.4578301e-02 8.2272887e-03 2.9390187e-03]]\n",
      "[4]\n",
      "[[0. 0. 0. 0. 0. 0. 0. 1. 0. 0. 0. 0. 0. 0. 0.]]\n"
     ]
    }
   ],
   "source": [
    "test_image = X_test[0:1]\n",
    "\n",
    "print(test_image.shape)\n",
    "print(model.predict(test_image))\n",
    "print(model.predict_classes(test_image))\n",
    "print(y_test[0:1])"
   ]
  },
  {
   "cell_type": "markdown",
   "metadata": {},
   "source": [
    "# Saving The model"
   ]
  },
  {
   "cell_type": "code",
   "execution_count": 158,
   "metadata": {},
   "outputs": [],
   "source": [
    "from keras.models import load_model"
   ]
  },
  {
   "cell_type": "code",
   "execution_count": 159,
   "metadata": {},
   "outputs": [
    {
     "name": "stdout",
     "output_type": "stream",
     "text": [
      "model saved as\n"
     ]
    }
   ],
   "source": [
    "model.save('model_.h5')\n",
    "print('model saved as')"
   ]
  },
  {
   "cell_type": "markdown",
   "metadata": {},
   "source": [
    "# Predicting the result of a new image"
   ]
  },
  {
   "cell_type": "code",
   "execution_count": 163,
   "metadata": {},
   "outputs": [
    {
     "data": {
      "image/png": "[encoded data removed]",
      "text/plain": [
       "<Figure size 432x288 with 1 Axes>"
      ]
     },
     "metadata": {
      "needs_background": "light"
     },
     "output_type": "display_data"
    },
    {
     "data": {
      "image/png": "[encoded data removed]",
      "text/plain": [
       "<Figure size 432x288 with 1 Axes>"
      ]
     },
     "metadata": {
      "needs_background": "light"
     },
     "output_type": "display_data"
    },
    {
     "name": "stdout",
     "output_type": "stream",
     "text": [
      "(100, 100)\n"
     ]
    }
   ],
   "source": [
    "input_image = cv2.imread('swedish dataset test/l9nr075.tif')\n",
    "plt.imshow(input_image)\n",
    "plt.show()\n",
    "\n",
    "input_image = cv2.cvtColor(input_image, cv2.COLOR_BGR2GRAY)\n",
    "\n",
    "input_image = cv2.resize(input_image,(100,100))\n",
    "plt.imshow(input_image)\n",
    "plt.show()\n",
    "\n",
    "input_image = np.array(input_image)\n",
    "input_image = input_image.astype('float32')\n",
    "input_image /= 255\n",
    "\n",
    "print(input_image.shape)"
   ]
  },
  {
   "cell_type": "code",
   "execution_count": 164,
   "metadata": {},
   "outputs": [
    {
     "name": "stdout",
     "output_type": "stream",
     "text": [
      "(1, 100, 100, 1)\n"
     ]
    }
   ],
   "source": [
    "input_image = np.expand_dims(input_image, axis= 0)\n",
    "input_image = np.expand_dims(input_image, axis= 3)\n",
    "print(input_image.shape)"
   ]
  },
  {
   "cell_type": "code",
   "execution_count": 170,
   "metadata": {},
   "outputs": [
    {
     "name": "stdout",
     "output_type": "stream",
     "text": [
      "------------------------------------------------------------\n",
      "CLASSS: [8]\n"
     ]
    }
   ],
   "source": [
    "#print((model.predict(input_image)))\n",
    "print('------------------------------------------------------------')\n",
    "\n",
    "print('CLASSS:',model.predict_classes(input_image))"
   ]
  },
  {
   "cell_type": "code",
   "execution_count": 171,
   "metadata": {},
   "outputs": [
    {
     "data": {
      "text/plain": [
       "<bound method Sequential.predict_proba of <keras.engine.sequential.Sequential object at 0x000001D9BCDD20F0>>"
      ]
     },
     "execution_count": 171,
     "metadata": {},
     "output_type": "execute_result"
    }
   ],
   "source": [
    "model.predict_proba"
   ]
  },
  {
   "cell_type": "code",
   "execution_count": 172,
   "metadata": {},
   "outputs": [
    {
     "name": "stdout",
     "output_type": "stream",
     "text": [
      "222/222 [==============================] - 5s 23ms/step\n"
     ]
    }
   ],
   "source": [
    "score, accuracy = model.evaluate(X_test, y_test, batch_size=20)"
   ]
  },
  {
   "cell_type": "code",
   "execution_count": 173,
   "metadata": {},
   "outputs": [
    {
     "name": "stdout",
     "output_type": "stream",
     "text": [
      "Test Score: 1.1519624276069906\n",
      "Test accuracy: 0.7162162183641313\n"
     ]
    }
   ],
   "source": [
    "print('Test Score:',score)\n",
    "print('Test accuracy:',accuracy)"
   ]
  },
  {
   "cell_type": "code",
   "execution_count": null,
   "metadata": {},
   "outputs": [],
   "source": []
  }
 ],
 "metadata": {
  "kernelspec": {
   "display_name": "Python 3",
   "language": "python",
   "name": "python3"
  },
  "language_info": {
   "codemirror_mode": {
    "name": "ipython",
    "version": 3
   },
   "file_extension": ".py",
   "mimetype": "text/x-python",
   "name": "python",
   "nbconvert_exporter": "python",
   "pygments_lexer": "ipython3",
   "version": "3.6.5"
  }
 },
 "nbformat": 4,
 "nbformat_minor": 2
}
